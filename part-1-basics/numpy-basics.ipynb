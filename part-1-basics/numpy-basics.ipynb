{
 "cells": [
  {
   "cell_type": "markdown",
   "id": "3884fe1d-70b6-409c-bbb6-9913ad8eade7",
   "metadata": {},
   "source": [
    "# NumPy basics\n",
    "\n",
    "This notebook stands for introduction to and presentation of NumPy - powerful Python library\n",
    "for numerical computation."
   ]
  },
  {
   "cell_type": "markdown",
   "id": "c5142bca-ea4e-42d4-9394-b6d4bcc0c6f9",
   "metadata": {},
   "source": [
    "### What does NumPy contain?\n",
    "\n",
    "NumPy provides tools for conducting numerical computations in Python. It allows to do it\n",
    "faster and more conveniently.\n",
    "\n",
    "Basically, NumPy provides:\n",
    "\n",
    "- n-dimensional arrays (_ndarrays_)\n",
    "- functions to manipulate these arrays\n",
    "\n",
    "By convention, we import NumPy using _np_ alias."
   ]
  },
  {
   "cell_type": "code",
   "execution_count": 1,
   "id": "ff184ffc-7a7c-4345-9d09-60491c838325",
   "metadata": {
    "tags": []
   },
   "outputs": [],
   "source": [
    "import numpy as np"
   ]
  },
  {
   "cell_type": "code",
   "execution_count": 3,
   "id": "027c1777-8cd2-4a20-8e71-3da84c8a0e6e",
   "metadata": {
    "tags": []
   },
   "outputs": [
    {
     "name": "stdout",
     "output_type": "stream",
     "text": [
      "[0 1 2 3 4 5 6]\n"
     ]
    }
   ],
   "source": [
    "some_array = np.array([0,1,2,3,4,5,6])\n",
    "print(some_array)"
   ]
  },
  {
   "cell_type": "markdown",
   "id": "91e73201-50ca-4acd-8cf8-425e075a5806",
   "metadata": {},
   "source": [
    "### ndarray\n",
    "\n",
    "Multidimensional array class in NumPy is _ndarray_ (also known as _array_, which is its alias).\n",
    "It is an array that contain elements of one type and can have many dimensons."
   ]
  },
  {
   "cell_type": "code",
   "execution_count": 4,
   "id": "82379c1d-bc2e-44af-9801-05d6c8ac49df",
   "metadata": {
    "tags": []
   },
   "outputs": [
    {
     "name": "stdout",
     "output_type": "stream",
     "text": [
      "[1 2 3 4]\n"
     ]
    }
   ],
   "source": [
    "# example array - np.array() function creates array from a sequence\n",
    "one_dim_array = np.array([1,2,3,4])\n",
    "print(one_dim_array)"
   ]
  },
  {
   "cell_type": "code",
   "execution_count": 10,
   "id": "d8ca124f-a6d1-4c44-998c-f3abfedbe7bf",
   "metadata": {
    "tags": []
   },
   "outputs": [
    {
     "name": "stdout",
     "output_type": "stream",
     "text": [
      "[[11 12 13]\n",
      " [21 22 23]\n",
      " [31 32 33]]\n",
      "\n",
      "\n",
      "[[[111 112 113]\n",
      "  [121 122 123]\n",
      "  [131 132 133]]\n",
      "\n",
      " [[211 212 213]\n",
      "  [221 222 223]\n",
      "  [231 232 233]]]\n"
     ]
    }
   ],
   "source": [
    "# two dimensional array - lists of lists\n",
    "two_dim_array = np.array([[11, 12, 13],\n",
    "                         [21, 22, 23],\n",
    "                         [31, 32, 33]])\n",
    "print(two_dim_array)\n",
    "print('\\n')\n",
    "# can be more dimensions - analogously\n",
    "three_dim_array = np.array([\n",
    "                             [[111, 112, 113],\n",
    "                             [121, 122, 123],\n",
    "                             [131, 132, 133]],\n",
    "                            [[211, 212, 213],\n",
    "                             [221, 222, 223],\n",
    "                             [231, 232, 233]]\n",
    "                           ])\n",
    "print(three_dim_array)"
   ]
  },
  {
   "cell_type": "markdown",
   "id": "54e2e975-2b71-46aa-a7e1-ea8cda17aa41",
   "metadata": {},
   "source": [
    "We have three arrays objects above - _one_dim_array_ has one dimension, _two_dim_array_ has two dimensions and _three_dim_array_ is three-dimensional.\n",
    "\n",
    "n-dimensional ndarray has n _axes_ (0, 1, ..., n-1), each axes is a _direction_ towards some dimension.\n",
    "\n",
    "Important thing: the axis printed from left to right is the _last_ axis, next are printed from top to bottom.\n",
    "\n",
    "For example, _three_dim_array_ can be thought as two matrices with numbered matrices, matrices rows and matrices columns. Axis 2 (last axis) goes through numbers of matrices columns. Axis 1 goes through numbers of matrices rows. Axis 0 goes through numbers of matrices.\n",
    "\n",
    "We demontrate this by calculating sums of elements over each axis."
   ]
  },
  {
   "cell_type": "code",
   "execution_count": 12,
   "id": "5d717d29-c29d-4a42-b108-28480c669c85",
   "metadata": {
    "tags": []
   },
   "outputs": [
    {
     "data": {
      "text/plain": [
       "array([[336, 366, 396],\n",
       "       [636, 666, 696]])"
      ]
     },
     "execution_count": 12,
     "metadata": {},
     "output_type": "execute_result"
    }
   ],
   "source": [
    "# sum over axis 2 - each element stands for one matrix' one row sum\n",
    "# (because axis goes through numbers of matrix' columns)\n",
    "np.sum(three_dim_array, axis=2)"
   ]
  },
  {
   "cell_type": "code",
   "execution_count": 13,
   "id": "60ae93a0-2605-4b8b-8676-a6f9496648f9",
   "metadata": {
    "tags": []
   },
   "outputs": [
    {
     "data": {
      "text/plain": [
       "array([[363, 366, 369],\n",
       "       [663, 666, 669]])"
      ]
     },
     "execution_count": 13,
     "metadata": {},
     "output_type": "execute_result"
    }
   ],
   "source": [
    "np.sum(three_dim_array, axis=1)"
   ]
  },
  {
   "cell_type": "code",
   "execution_count": 14,
   "id": "bd215eac-d93b-4c08-b96f-06df11fc4b17",
   "metadata": {
    "tags": []
   },
   "outputs": [
    {
     "data": {
      "text/plain": [
       "array([[322, 324, 326],\n",
       "       [342, 344, 346],\n",
       "       [362, 364, 366]])"
      ]
     },
     "execution_count": 14,
     "metadata": {},
     "output_type": "execute_result"
    }
   ],
   "source": [
    "np.sum(three_dim_array, axis=0)"
   ]
  },
  {
   "cell_type": "markdown",
   "id": "98ba2f0b-d79f-4b88-aeaa-def252e7b9fd",
   "metadata": {},
   "source": [
    "We can see array's properties."
   ]
  },
  {
   "cell_type": "code",
   "execution_count": 15,
   "id": "ca820253-4d95-4354-b46b-4d5f39078937",
   "metadata": {
    "tags": []
   },
   "outputs": [
    {
     "data": {
      "text/plain": [
       "3"
      ]
     },
     "execution_count": 15,
     "metadata": {},
     "output_type": "execute_result"
    }
   ],
   "source": [
    "# number of dimensions\n",
    "three_dim_array.ndim"
   ]
  },
  {
   "cell_type": "code",
   "execution_count": 17,
   "id": "cffe50c7-f140-48ed-8678-55e9e7e3baa7",
   "metadata": {
    "tags": []
   },
   "outputs": [
    {
     "data": {
      "text/plain": [
       "(2, 3, 3)"
      ]
     },
     "execution_count": 17,
     "metadata": {},
     "output_type": "execute_result"
    }
   ],
   "source": [
    "# number of elements in each dimension (over each axis)\n",
    "three_dim_array.shape"
   ]
  },
  {
   "cell_type": "code",
   "execution_count": 18,
   "id": "fcc1a277-8cde-4f31-8e23-494b0b57c2d7",
   "metadata": {
    "tags": []
   },
   "outputs": [
    {
     "data": {
      "text/plain": [
       "4"
      ]
     },
     "execution_count": 18,
     "metadata": {},
     "output_type": "execute_result"
    }
   ],
   "source": [
    "# number of bytes one element occupy\n",
    "three_dim_array.itemsize"
   ]
  },
  {
   "cell_type": "code",
   "execution_count": 19,
   "id": "182369b8-caf0-41b4-8cd1-c5e5823e3d38",
   "metadata": {
    "tags": []
   },
   "outputs": [
    {
     "data": {
      "text/plain": [
       "72"
      ]
     },
     "execution_count": 19,
     "metadata": {},
     "output_type": "execute_result"
    }
   ],
   "source": [
    "# total size in bytes\n",
    "three_dim_array.nbytes"
   ]
  },
  {
   "cell_type": "code",
   "execution_count": null,
   "id": "352e548e-f085-455c-8a1b-09b46ef1c822",
   "metadata": {},
   "outputs": [],
   "source": []
  }
 ],
 "metadata": {
  "kernelspec": {
   "display_name": "Python 3 (ipykernel)",
   "language": "python",
   "name": "python3"
  },
  "language_info": {
   "codemirror_mode": {
    "name": "ipython",
    "version": 3
   },
   "file_extension": ".py",
   "mimetype": "text/x-python",
   "name": "python",
   "nbconvert_exporter": "python",
   "pygments_lexer": "ipython3",
   "version": "3.10.6"
  }
 },
 "nbformat": 4,
 "nbformat_minor": 5
}
