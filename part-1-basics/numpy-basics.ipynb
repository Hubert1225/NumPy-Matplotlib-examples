{
 "cells": [
  {
   "cell_type": "markdown",
   "id": "3884fe1d-70b6-409c-bbb6-9913ad8eade7",
   "metadata": {},
   "source": [
    "# NumPy basics\n",
    "\n",
    "This notebook stands for introduction to and presentation of NumPy - powerful Python library\n",
    "for numerical computation."
   ]
  },
  {
   "cell_type": "markdown",
   "id": "c5142bca-ea4e-42d4-9394-b6d4bcc0c6f9",
   "metadata": {},
   "source": [
    "### What does NumPy contain?\n",
    "\n",
    "NumPy provides tools for conducting numerical computations in Python. It allows to do it\n",
    "faster and more conveniently.\n",
    "\n",
    "Basically, NumPy provides:\n",
    "\n",
    "- n-dimensional arrays (_ndarrays_)\n",
    "- functions to manipulate these arrays\n",
    "\n",
    "By convention, we import NumPy using _np_ alias."
   ]
  },
  {
   "cell_type": "code",
   "execution_count": 1,
   "id": "ff184ffc-7a7c-4345-9d09-60491c838325",
   "metadata": {
    "tags": []
   },
   "outputs": [],
   "source": [
    "import numpy as np"
   ]
  },
  {
   "cell_type": "code",
   "execution_count": 2,
   "id": "027c1777-8cd2-4a20-8e71-3da84c8a0e6e",
   "metadata": {
    "tags": []
   },
   "outputs": [
    {
     "name": "stdout",
     "output_type": "stream",
     "text": [
      "[0 1 2 3 4 5 6]\n"
     ]
    }
   ],
   "source": [
    "some_array = np.array([0,1,2,3,4,5,6])\n",
    "print(some_array)"
   ]
  },
  {
   "cell_type": "markdown",
   "id": "91e73201-50ca-4acd-8cf8-425e075a5806",
   "metadata": {},
   "source": [
    "### ndarray\n",
    "\n",
    "Multidimensional array class in NumPy is _ndarray_ (also known as _array_, which is its alias).\n",
    "It is an array that contain elements of one type and can have many dimensons."
   ]
  },
  {
   "cell_type": "code",
   "execution_count": 3,
   "id": "82379c1d-bc2e-44af-9801-05d6c8ac49df",
   "metadata": {
    "tags": []
   },
   "outputs": [
    {
     "name": "stdout",
     "output_type": "stream",
     "text": [
      "[1 2 3 4]\n"
     ]
    }
   ],
   "source": [
    "# example array - np.array() function creates array from a sequence\n",
    "one_dim_array = np.array([1,2,3,4])\n",
    "print(one_dim_array)"
   ]
  },
  {
   "cell_type": "code",
   "execution_count": 4,
   "id": "d8ca124f-a6d1-4c44-998c-f3abfedbe7bf",
   "metadata": {
    "tags": []
   },
   "outputs": [
    {
     "name": "stdout",
     "output_type": "stream",
     "text": [
      "[[11 12 13]\n",
      " [21 22 23]\n",
      " [31 32 33]]\n",
      "\n",
      "\n",
      "[[[111 112 113]\n",
      "  [121 122 123]\n",
      "  [131 132 133]]\n",
      "\n",
      " [[211 212 213]\n",
      "  [221 222 223]\n",
      "  [231 232 233]]]\n"
     ]
    }
   ],
   "source": [
    "# two dimensional array - lists of lists\n",
    "two_dim_array = np.array([[11, 12, 13],\n",
    "                         [21, 22, 23],\n",
    "                         [31, 32, 33]])\n",
    "print(two_dim_array)\n",
    "print('\\n')\n",
    "# can be more dimensions - analogously\n",
    "three_dim_array = np.array([\n",
    "                             [[111, 112, 113],\n",
    "                             [121, 122, 123],\n",
    "                             [131, 132, 133]],\n",
    "                            [[211, 212, 213],\n",
    "                             [221, 222, 223],\n",
    "                             [231, 232, 233]]\n",
    "                           ])\n",
    "print(three_dim_array)"
   ]
  },
  {
   "cell_type": "markdown",
   "id": "54e2e975-2b71-46aa-a7e1-ea8cda17aa41",
   "metadata": {},
   "source": [
    "We have three arrays objects above - _one_dim_array_ has one dimension, _two_dim_array_ has two dimensions and _three_dim_array_ is three-dimensional.\n",
    "\n",
    "n-dimensional ndarray has n _axes_ (0, 1, ..., n-1), each axes is a _direction_ towards some dimension.\n",
    "\n",
    "Important thing: the axis printed from left to right is the _last_ axis, next are printed from top to bottom.\n",
    "\n",
    "For example, _three_dim_array_ can be thought as two matrices with numbered matrices, matrices rows and matrices columns. Axis 2 (last axis) goes through numbers of matrices columns. Axis 1 goes through numbers of matrices rows. Axis 0 goes through numbers of matrices.\n",
    "\n",
    "We demontrate this by calculating sums of elements over each axis."
   ]
  },
  {
   "cell_type": "code",
   "execution_count": 5,
   "id": "5d717d29-c29d-4a42-b108-28480c669c85",
   "metadata": {
    "tags": []
   },
   "outputs": [
    {
     "data": {
      "text/plain": [
       "array([[336, 366, 396],\n",
       "       [636, 666, 696]])"
      ]
     },
     "execution_count": 5,
     "metadata": {},
     "output_type": "execute_result"
    }
   ],
   "source": [
    "# sum over axis 2 - each element stands for one matrix' one row sum\n",
    "# (because axis goes through numbers of matrix' columns)\n",
    "np.sum(three_dim_array, axis=2)"
   ]
  },
  {
   "cell_type": "code",
   "execution_count": 6,
   "id": "60ae93a0-2605-4b8b-8676-a6f9496648f9",
   "metadata": {
    "tags": []
   },
   "outputs": [
    {
     "data": {
      "text/plain": [
       "array([[363, 366, 369],\n",
       "       [663, 666, 669]])"
      ]
     },
     "execution_count": 6,
     "metadata": {},
     "output_type": "execute_result"
    }
   ],
   "source": [
    "np.sum(three_dim_array, axis=1)"
   ]
  },
  {
   "cell_type": "code",
   "execution_count": 7,
   "id": "bd215eac-d93b-4c08-b96f-06df11fc4b17",
   "metadata": {
    "tags": []
   },
   "outputs": [
    {
     "data": {
      "text/plain": [
       "array([[322, 324, 326],\n",
       "       [342, 344, 346],\n",
       "       [362, 364, 366]])"
      ]
     },
     "execution_count": 7,
     "metadata": {},
     "output_type": "execute_result"
    }
   ],
   "source": [
    "np.sum(three_dim_array, axis=0)"
   ]
  },
  {
   "cell_type": "markdown",
   "id": "98ba2f0b-d79f-4b88-aeaa-def252e7b9fd",
   "metadata": {},
   "source": [
    "We can see array's properties."
   ]
  },
  {
   "cell_type": "code",
   "execution_count": 8,
   "id": "ca820253-4d95-4354-b46b-4d5f39078937",
   "metadata": {
    "tags": []
   },
   "outputs": [
    {
     "data": {
      "text/plain": [
       "3"
      ]
     },
     "execution_count": 8,
     "metadata": {},
     "output_type": "execute_result"
    }
   ],
   "source": [
    "# number of dimensions\n",
    "three_dim_array.ndim"
   ]
  },
  {
   "cell_type": "code",
   "execution_count": 9,
   "id": "cffe50c7-f140-48ed-8678-55e9e7e3baa7",
   "metadata": {
    "tags": []
   },
   "outputs": [
    {
     "data": {
      "text/plain": [
       "(2, 3, 3)"
      ]
     },
     "execution_count": 9,
     "metadata": {},
     "output_type": "execute_result"
    }
   ],
   "source": [
    "# number of elements in each dimension (over each axis)\n",
    "three_dim_array.shape"
   ]
  },
  {
   "cell_type": "code",
   "execution_count": 10,
   "id": "fcc1a277-8cde-4f31-8e23-494b0b57c2d7",
   "metadata": {
    "tags": []
   },
   "outputs": [
    {
     "data": {
      "text/plain": [
       "4"
      ]
     },
     "execution_count": 10,
     "metadata": {},
     "output_type": "execute_result"
    }
   ],
   "source": [
    "# number of bytes one element occupy\n",
    "three_dim_array.itemsize"
   ]
  },
  {
   "cell_type": "code",
   "execution_count": 11,
   "id": "182369b8-caf0-41b4-8cd1-c5e5823e3d38",
   "metadata": {
    "tags": []
   },
   "outputs": [
    {
     "data": {
      "text/plain": [
       "72"
      ]
     },
     "execution_count": 11,
     "metadata": {},
     "output_type": "execute_result"
    }
   ],
   "source": [
    "# total size in bytes\n",
    "three_dim_array.nbytes"
   ]
  },
  {
   "cell_type": "markdown",
   "id": "7671fd7e-7d44-4517-af4e-ca1b687cec03",
   "metadata": {},
   "source": [
    "### Data types\n",
    "\n",
    "In a NumPy array all of the elements has to be the same type. The type of an array object is called _dtype_."
   ]
  },
  {
   "cell_type": "code",
   "execution_count": 12,
   "id": "352e548e-f085-455c-8a1b-09b46ef1c822",
   "metadata": {
    "tags": []
   },
   "outputs": [
    {
     "data": {
      "text/plain": [
       "dtype('int32')"
      ]
     },
     "execution_count": 12,
     "metadata": {},
     "output_type": "execute_result"
    }
   ],
   "source": [
    "# data type\n",
    "three_dim_array.dtype"
   ]
  },
  {
   "cell_type": "markdown",
   "id": "011dc2f1-4397-4b13-b348-c1da102904c9",
   "metadata": {},
   "source": [
    "We can fit datatype to our purpose."
   ]
  },
  {
   "cell_type": "code",
   "execution_count": 13,
   "id": "50a28964-d824-4443-a04d-c118bd24074a",
   "metadata": {
    "tags": []
   },
   "outputs": [
    {
     "name": "stdout",
     "output_type": "stream",
     "text": [
      "int16\n",
      "2\n"
     ]
    }
   ],
   "source": [
    "# 16-bit int\n",
    "sixteen = np.array([5,3,5,3], dtype='int16')\n",
    "print(sixteen.dtype)\n",
    "print(sixteen.itemsize)"
   ]
  },
  {
   "cell_type": "code",
   "execution_count": 14,
   "id": "44d01310-8168-4281-a376-e487d41be0a4",
   "metadata": {
    "tags": []
   },
   "outputs": [
    {
     "name": "stdout",
     "output_type": "stream",
     "text": [
      "float32\n",
      "4\n"
     ]
    }
   ],
   "source": [
    "# 32-bit floating point number\n",
    "single_prec = np.array([[4.5, 7.86,],\n",
    "                        [5.0, 1.25]], dtype='float32')\n",
    "print(single_prec.dtype)\n",
    "print(single_prec.itemsize)"
   ]
  },
  {
   "cell_type": "code",
   "execution_count": 15,
   "id": "02f06393-79fe-41dc-acc2-a59403ccf014",
   "metadata": {
    "tags": []
   },
   "outputs": [
    {
     "data": {
      "text/plain": [
       "dtype('<U2')"
      ]
     },
     "execution_count": 15,
     "metadata": {},
     "output_type": "execute_result"
    }
   ],
   "source": [
    "string_array = np.array(['gf', 'hh', 'as'])\n",
    "string_array.dtype"
   ]
  },
  {
   "cell_type": "markdown",
   "id": "9a3b2c11-26b4-4246-bde6-b1ea06618001",
   "metadata": {},
   "source": [
    "We can create _structured data types_, which are aggregates of other data types."
   ]
  },
  {
   "cell_type": "code",
   "execution_count": 16,
   "id": "aec583e3-dffb-4a10-a55b-d44f023d793e",
   "metadata": {
    "tags": []
   },
   "outputs": [
    {
     "data": {
      "text/plain": [
       "dtype([('f1', '<u4'), ('f2', '<f8')])"
      ]
     },
     "execution_count": 16,
     "metadata": {},
     "output_type": "execute_result"
    }
   ],
   "source": [
    "# data type object\n",
    "np.dtype([('f1', np.uint32), ('f2', np.float_)])"
   ]
  },
  {
   "cell_type": "markdown",
   "id": "27be90cc-0934-406d-963c-01ac037b4585",
   "metadata": {},
   "source": [
    "### Create an array"
   ]
  },
  {
   "cell_type": "code",
   "execution_count": 17,
   "id": "1ac4d569-c916-4813-b971-8a6d9c811e5d",
   "metadata": {
    "tags": []
   },
   "outputs": [
    {
     "data": {
      "text/plain": [
       "array([[1, 2, 3, 4],\n",
       "       [3, 2, 1, 3]])"
      ]
     },
     "execution_count": 17,
     "metadata": {},
     "output_type": "execute_result"
    }
   ],
   "source": [
    "# np.array() function\n",
    "arr = np.array([[1,2,3,4], [3,2,1,3]])\n",
    "arr"
   ]
  },
  {
   "cell_type": "code",
   "execution_count": 18,
   "id": "308588ef-8efc-43a9-b9fe-090c9f670aac",
   "metadata": {
    "tags": []
   },
   "outputs": [
    {
     "data": {
      "text/plain": [
       "array([[ True, False, False],\n",
       "       [ True,  True, False],\n",
       "       [ True,  True,  True]])"
      ]
     },
     "execution_count": 18,
     "metadata": {},
     "output_type": "execute_result"
    }
   ],
   "source": [
    "# using function on indices\n",
    "np.fromfunction(lambda i, j: i >= j, (3,3), dtype=int)"
   ]
  },
  {
   "cell_type": "code",
   "execution_count": 19,
   "id": "2599d4c3-0e58-4712-be40-223489bdfa73",
   "metadata": {
    "tags": []
   },
   "outputs": [
    {
     "data": {
      "text/plain": [
       "array([ 0,  1,  4,  9, 16])"
      ]
     },
     "execution_count": 19,
     "metadata": {},
     "output_type": "execute_result"
    }
   ],
   "source": [
    "# using iterable object (only 1-d)\n",
    "# count parameter enhances speed\n",
    "np.fromiter((i**2 for i in range(5)), dtype='int32', count=5)"
   ]
  },
  {
   "cell_type": "code",
   "execution_count": 20,
   "id": "d7652435-bd97-4875-a9ae-589c1d461198",
   "metadata": {
    "tags": []
   },
   "outputs": [
    {
     "name": "stdout",
     "output_type": "stream",
     "text": [
      "[[0. 0.]\n",
      " [0. 0.]\n",
      " [0. 0.]\n",
      " [0. 0.]\n",
      " [0. 0.]]\n",
      "[[0 0 0]\n",
      " [0 0 0]\n",
      " [0 0 0]]\n"
     ]
    }
   ],
   "source": [
    "# create array filled with zeros...\n",
    "\n",
    "# ...of desired shape\n",
    "print(np.zeros((5,2)))\n",
    "\n",
    "# ...of the same shape as another array\n",
    "print(np.zeros_like(two_dim_array))"
   ]
  },
  {
   "cell_type": "code",
   "execution_count": 21,
   "id": "7c193dd0-0c51-4a53-88e2-99a3c190f069",
   "metadata": {
    "tags": []
   },
   "outputs": [
    {
     "name": "stdout",
     "output_type": "stream",
     "text": [
      "[[1. 1.]\n",
      " [1. 1.]\n",
      " [1. 1.]\n",
      " [1. 1.]\n",
      " [1. 1.]]\n",
      "[[1 1 1]\n",
      " [1 1 1]\n",
      " [1 1 1]]\n"
     ]
    }
   ],
   "source": [
    "# create array filled with ones\n",
    "print(np.ones((5,2)))\n",
    "print(np.ones_like(two_dim_array))"
   ]
  },
  {
   "cell_type": "code",
   "execution_count": 22,
   "id": "d9f78d91-ad59-4d93-8103-ae44b8f69607",
   "metadata": {
    "tags": []
   },
   "outputs": [
    {
     "name": "stdout",
     "output_type": "stream",
     "text": [
      "[[3.14 3.14]\n",
      " [3.14 3.14]\n",
      " [3.14 3.14]\n",
      " [3.14 3.14]\n",
      " [3.14 3.14]]\n",
      "[[3 3 3]\n",
      " [3 3 3]\n",
      " [3 3 3]]\n"
     ]
    }
   ],
   "source": [
    "# or filled with any other number\n",
    "print(np.full((5,2), 3.14))\n",
    "print(np.full_like(two_dim_array, 3.14))\n",
    "# caution! data type"
   ]
  },
  {
   "cell_type": "code",
   "execution_count": 23,
   "id": "d103bf49-d9aa-4dab-9328-c629f3ce8346",
   "metadata": {
    "tags": []
   },
   "outputs": [
    {
     "data": {
      "text/plain": [
       "array([[8.35850647e-312, 0.00000000e+000]])"
      ]
     },
     "execution_count": 23,
     "metadata": {},
     "output_type": "execute_result"
    }
   ],
   "source": [
    "# create array with some values dependent on memory that are to be replaced\n",
    "np.empty((1,2))  # may vary"
   ]
  }
 ],
 "metadata": {
  "kernelspec": {
   "display_name": "Python 3 (ipykernel)",
   "language": "python",
   "name": "python3"
  },
  "language_info": {
   "codemirror_mode": {
    "name": "ipython",
    "version": 3
   },
   "file_extension": ".py",
   "mimetype": "text/x-python",
   "name": "python",
   "nbconvert_exporter": "python",
   "pygments_lexer": "ipython3",
   "version": "3.10.6"
  }
 },
 "nbformat": 4,
 "nbformat_minor": 5
}
